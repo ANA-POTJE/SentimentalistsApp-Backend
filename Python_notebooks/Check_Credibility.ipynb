{
 "cells": [
  {
   "cell_type": "code",
   "execution_count": 1,
   "metadata": {},
   "outputs": [],
   "source": [
    "## https://cloud.gate.ac.uk/yourAccount/newApiKey\n",
    "#Key ID   == gcc3g8cmwyob\n",
    "#Password == 8ypn2huuqhu43zm3i2in\n",
    "#Description == Generated at 2020-09-22T12:05:02.182Z\n",
    "\n",
    "###resultFile-BBC-bbccouknewsuk-northern-ireland-54245790"
   ]
  },
  {
   "cell_type": "code",
   "execution_count": 1,
   "metadata": {},
   "outputs": [
    {
     "output_type": "execute_result",
     "data": {
      "text/plain": "{&#39;text&#39;: &#39;https://www.bbc.co.uk&#39;,\n &#39;entities&#39;: {&#39;DomainCredibility&#39;: [{&#39;indices&#39;: [0, 21],\n    &#39;credibility-resolved-url&#39;: &#39;https://www.bbc.co.uk&#39;,\n    &#39;credibility-domain&#39;: &#39;bbc.co.uk&#39;,\n    &#39;credibility-score&#39;: 100.0,\n    &#39;credibility-color&#39;: &#39;green&#39;,\n    &#39;credibility-source&#39;: &quot;Reporters&#39; Lab&quot;,\n    &#39;credibility-timestamp&#39;: 20200128},\n   {&#39;indices&#39;: [0, 21],\n    &#39;credibility-resolved-url&#39;: &#39;https://www.bbc.co.uk&#39;,\n    &#39;credibility-domain&#39;: &#39;bbc.co.uk&#39;,\n    &#39;credibility-score&#39;: 70.0,\n    &#39;credibility-color&#39;: &#39;grey&#39;,\n    &#39;credibility-source&#39;: &#39;NewsTrust&#39;,\n    &#39;credibility-timestamp&#39;: 20191001},\n   {&#39;indices&#39;: [0, 21],\n    &#39;credibility-resolved-url&#39;: &#39;https://www.bbc.co.uk&#39;,\n    &#39;credibility-domain&#39;: &#39;bbc.co.uk&#39;,\n    &#39;credibility-score&#39;: 95.0,\n    &#39;credibility-color&#39;: &#39;green&#39;,\n    &#39;credibility-category&#39;: &#39;UNS&#39;,\n    &#39;credibility-source&#39;: &#39;Media Bias/Fact Check&#39;,\n    &#39;credibility-timestamp&#39;: 20191001}]}}"
     },
     "metadata": {},
     "execution_count": 1
    }
   ],
   "source": [
    "import requests\n",
    "#url = \"https://www.bbc.co.uk\"\n",
    "#url = \"https://metro.co.uk/\" ## 82.5 ### 'Left Center' ## 'Media Bias/Fact Check' ## 20191001\n",
    "#url = \"https://www.thesun.co.uk/\" ##95\n",
    "#url = \"https://socialistworker.co.uk/\" ## null\n",
    "#url = \"https://www.spiked-online.com/\" ## null\n",
    "#url = \"https://www.thecanary.co/\"## null\n",
    "#url = \"https://www.breitbart.com/europe/\" ###'credibility-category': 'Fake News',\n",
    "#url= \"http://foodbabe.com/\"\n",
    "\n",
    "url = \"https://www.bbc.co.uk\"\n",
    "\n",
    "Gate_Source_Cred_API = \"https://cloud-api.gate.ac.uk/process-document/source-credibility?annotations=:DomainCredibility\"\n",
    "reliability_txt = requests.post(Gate_Source_Cred_API, data = url, headers={'Content-Type': 'text/plain'}, \n",
    "                                auth=('gcc3g8cmwyob', '8ypn2huuqhu43zm3i2in'))\n",
    "rel_json = reliability_txt.json()\n",
    "rel_json"
   ]
  },
  {
   "cell_type": "code",
   "execution_count": 2,
   "metadata": {
    "tags": []
   },
   "outputs": [
    {
     "output_type": "stream",
     "name": "stdout",
     "text": "Mean is : 95.0\n"
    }
   ],
   "source": [
    "scores = []\n",
    "for item in rel_json['entities']['DomainCredibility']:\n",
    "    if item['credibility-source'] == 'Media Bias/Fact Check': ###!= 'NewsTrust':\n",
    "        scores += [item['credibility-score']]\n",
    "\n",
    "#scores = [item['credibility-score'] for item in rel_json['entities']['DomainCredibility']]\n",
    "\n",
    "import statistics \n",
    "avg_score = statistics.mean(scores)\n",
    "print(\"Mean is :\", avg_score)"
   ]
  },
  {
   "cell_type": "code",
   "execution_count": 3,
   "metadata": {},
   "outputs": [],
   "source": [
    "def getReliabilityScore(url):\n",
    "    import requests\n",
    "    ##import statistics \n",
    "    \n",
    "    Gate_Source_Cred_API = \"https://cloud-api.gate.ac.uk/process-document/source-credibility?annotations=:DomainCredibility\"\n",
    "    reliability_txt = requests.post(Gate_Source_Cred_API, data = url, headers={'Content-Type': 'text/plain'}, \n",
    "                                    auth=('gcc3g8cmwyob', '8ypn2huuqhu43zm3i2in'))\n",
    "    rel_json = reliability_txt.json()\n",
    "\n",
    "    if (rel_json['entities'] != {}):\n",
    "        for item in rel_json['entities']['DomainCredibility']:\n",
    "            p_score = item.get('credibility-score', 0)\n",
    "            p_category = item.get('credibility-category', '')\n",
    "            p_source = item.get('credibility-source', '')\n",
    "\n",
    "            if item['credibility-source'] == 'Media Bias/Fact Check':\n",
    "                return(p_score, p_category, p_source)\n",
    "    else:\n",
    "        return(-1)\n",
    "    \n",
    "    ## in case there is no 'Media Bias/Fact Check' but a different source:\n",
    "    return(p_score, p_category, p_source)"
   ]
  },
  {
   "cell_type": "code",
   "execution_count": 31,
   "metadata": {
    "scrolled": true
   },
   "outputs": [
    {
     "output_type": "execute_result",
     "data": {
      "text/plain": "(100.0, &#39;Center&#39;, &#39;Media Bias/Fact Check&#39;)"
     },
     "metadata": {},
     "execution_count": 31
    }
   ],
   "source": [
    "#url = \"https://metro.co.uk/\"              ## (82.5, 'Left Center', 'Media Bias/Fact Check')\n",
    "#url = \"https://www.thesun.co.uk/\"         ## (95.0, 'UNS', , 'Media Bias/Fact Check')\n",
    "#url = \"https://www.bbc.co.uk\"             ## (95.0, 'UNS', 'Media Bias/Fact Check')\n",
    "#url = \"http://foodbabe.com/\"               ## (25.0, 'unreliable', 'Human Assigned')\n",
    "#url = \"http://www.mercola.com/\"           ## (35.0, 'Conspiracy', 'Media Bias/Fact Check')\n",
    "#\n",
    "#url = \"https://www.breitbart.com/europe/\" ## (49.5, 'Fake News', 'Media Bias/Fact Check')\n",
    "#url = \"https://socialistworker.co.uk/\"    ## -1\n",
    "#url = \"https://www.spiked-online.com/\"    ## -1\n",
    "#url = \"https://www.thecanary.co/\"         ## -1\n",
    "\n",
    "#url = \"https://www.breitbart.com/2020-election/2020/10/03/as-trump-battles-covid-blm-antifa-disrupt-trump-rally-in-beverly-hills/\"\n",
    "#url = \"https://www.bbc.co.uk/news/uk-54234084\"\n",
    "#url = \"https://metro.co.uk/2020/09/21/\"\n",
    "#url = \"https://www.theguardian.com/us-news/2020/oct/04/trump-covid-white-house-panic-confusion\"\n",
    "#url = \"https://www.thesun.co.uk/news/12771727/battle-against-covid-lorraine-kelly/\"\n",
    "#url = \"https://www.wsj.com/articles/covid-19-left-u-k-s-boris-johnson-and-brazils-jair-bolsonaro-unscathed-politically-11601739583\"\n",
    "#url = \"https://www.foxnews.com/politics/trump-coronavirus-health-update-sunday-walter-reed\"\n",
    "url = \"https://www.economist.com/leaders/2020/10/03/china-is-demolishing-villages-and-forcing-people-into-bigger-ones\"\n",
    "\n",
    "\n",
    "getReliabilityScore(url)"
   ]
  },
  {
   "cell_type": "code",
   "execution_count": null,
   "metadata": {},
   "outputs": [],
   "source": []
  },
  {
   "cell_type": "code",
   "execution_count": null,
   "metadata": {},
   "outputs": [],
   "source": []
  }
 ],
 "metadata": {
  "kernelspec": {
   "display_name": "Python 3",
   "language": "python",
   "name": "python3"
  },
  "language_info": {
   "codemirror_mode": {
    "name": "ipython",
    "version": 3
   },
   "file_extension": ".py",
   "mimetype": "text/x-python",
   "name": "python",
   "nbconvert_exporter": "python",
   "pygments_lexer": "ipython3",
   "version": "3.8.5-final"
  }
 },
 "nbformat": 4,
 "nbformat_minor": 2
}