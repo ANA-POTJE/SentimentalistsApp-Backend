{
 "cells": [
  {
   "cell_type": "code",
   "execution_count": 1,
   "metadata": {},
   "outputs": [],
   "source": [
    "## https://cloud.gate.ac.uk/yourAccount/newApiKey\n",
    "#Key ID   == gcc3g8cmwyob\n",
    "#Password == 8ypn2huuqhu43zm3i2in\n",
    "#Description == Generated at 2020-09-22T12:05:02.182Z\n",
    "\n",
    "###resultFile-BBC-bbccouknewsuk-northern-ireland-54245790"
   ]
  },
  {
   "cell_type": "code",
   "execution_count": 32,
   "metadata": {},
   "outputs": [
    {
     "data": {
      "text/plain": [
       "{'text': 'https://www.thesun.co.uk/',\n",
       " 'entities': {'DomainCredibility': [{'indices': [0, 25],\n",
       "    'credibility-resolved-url': 'https://www.thesun.co.uk/',\n",
       "    'credibility-domain': 'thesun.co.uk',\n",
       "    'credibility-score': 95.0,\n",
       "    'credibility-type': 'known',\n",
       "    'credibility-color': 'green',\n",
       "    'credibility-category': 'UNS',\n",
       "    'credibility-source': 'Media Bias/Fact Check',\n",
       "    'credibility-timestamp': 20191001}]}}"
      ]
     },
     "execution_count": 32,
     "metadata": {},
     "output_type": "execute_result"
    }
   ],
   "source": [
    "import requests\n",
    "url = \"https://cloud-api.gate.ac.uk/process-document/source-credibility?annotations=:DomainCredibility\"\n",
    "##myobj = \"https://www.bbc.co.uk\"\n",
    "myobj = \"https://www.thesun.co.uk/\"\n",
    "\n",
    "reliability_txt = requests.post(url, data = myobj, headers={'Content-Type': 'text/plain'}, auth=('gcc3g8cmwyob', '8ypn2huuqhu43zm3i2in'))\n",
    "rel_json = reliability_txt.json()\n",
    "rel_json"
   ]
  },
  {
   "cell_type": "code",
   "execution_count": 22,
   "metadata": {},
   "outputs": [
    {
     "name": "stdout",
     "output_type": "stream",
     "text": [
      "[25.0]\n",
      "Mean is : 25.0\n"
     ]
    }
   ],
   "source": [
    "scores = [item['credibility-score'] for item in rel_json['entities']['DomainCredibility']]\n",
    "print(scores)\n",
    "\n",
    "import statistics \n",
    "avg_score = statistics.mean(scores)\n",
    "print(\"Mean is :\", avg_score)"
   ]
  },
  {
   "cell_type": "code",
   "execution_count": 23,
   "metadata": {},
   "outputs": [],
   "source": [
    "def getReliabilityScore(url):\n",
    "    import requests\n",
    "    import statistics \n",
    "    \n",
    "    Gate_Source_Cred_API = \"https://cloud-api.gate.ac.uk/process-document/source-credibility?annotations=:DomainCredibility\"\n",
    "    reliability_txt = requests.post(Gate_Source_Cred_API, data = url, headers={'Content-Type': 'text/plain'}, \n",
    "                                    auth=('gcc3g8cmwyob', '8ypn2huuqhu43zm3i2in'))\n",
    "    rel_json = reliability_txt.json()\n",
    "    \n",
    "    if (rel_json['entities'] != {}):\n",
    "        scores = [item['credibility-score'] for item in rel_json['entities']['DomainCredibility']]\n",
    "        return(statistics.mean(scores))\n",
    "    else:\n",
    "        return(0)"
   ]
  },
  {
   "cell_type": "code",
   "execution_count": 34,
   "metadata": {},
   "outputs": [
    {
     "data": {
      "text/plain": [
       "95.0"
      ]
     },
     "execution_count": 34,
     "metadata": {},
     "output_type": "execute_result"
    }
   ],
   "source": [
    "#url = \"https://www.bbc.co.uk\"\n",
    "#url = \"https://answersingenesis.org/\"\n",
    "#url= \"http://foodbabe.com/\"\n",
    "#url = \"http://www.mercola.com/\"\n",
    "#url = \"http://www.ageofautism.com/\"\n",
    "#url = \"https://metro.co.uk/\" ## 82.5\n",
    "url = \"https://www.thesun.co.uk/\" ##95\n",
    "getReliabilityScore(url)"
   ]
  },
  {
   "cell_type": "code",
   "execution_count": null,
   "metadata": {},
   "outputs": [],
   "source": []
  },
  {
   "cell_type": "code",
   "execution_count": null,
   "metadata": {},
   "outputs": [],
   "source": []
  }
 ],
 "metadata": {
  "kernelspec": {
   "display_name": "Python 3",
   "language": "python",
   "name": "python3"
  },
  "language_info": {
   "codemirror_mode": {
    "name": "ipython",
    "version": 3
   },
   "file_extension": ".py",
   "mimetype": "text/x-python",
   "name": "python",
   "nbconvert_exporter": "python",
   "pygments_lexer": "ipython3",
   "version": "3.6.2"
  }
 },
 "nbformat": 4,
 "nbformat_minor": 2
}
