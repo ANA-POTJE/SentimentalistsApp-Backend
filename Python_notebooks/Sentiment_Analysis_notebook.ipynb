{
 "cells": [
  {
   "cell_type": "code",
   "execution_count": 21,
   "metadata": {},
   "outputs": [],
   "source": [
    "### https://towardsdatascience.com/my-absolute-go-to-for-sentiment-analysis-textblob-3ac3a11d524\n",
    "###\n",
    "### Subjectivity quantifies the amount of personal opinion and factual information\n",
    "### contained in the text. The higher subjectivity means that the text contains\n",
    "### personal opinion rather than factual information.\n",
    "\n",
    "from textblob import TextBlob\n",
    "#import sys\n",
    "#print(sys.executable)\n",
    "#sys.path"
   ]
  },
  {
   "cell_type": "code",
   "execution_count": 22,
   "metadata": {},
   "outputs": [
    {
     "output_type": "execute_result",
     "data": {
      "text/plain": "Sentiment(polarity=0.0, subjectivity=0.0)"
     },
     "metadata": {},
     "execution_count": 22
    }
   ],
   "source": [
    "text = TextBlob(\"This was a helpful example but I would prefer another one.\")\n",
    "\n",
    "#text = TextBlob(\"At the moment we think the epidemic is doubling every seven days. If, and that\\'s quite a big if, but ...\")\n",
    "\n",
    "text.sentiment"
   ]
  },
  {
   "cell_type": "code",
   "execution_count": 40,
   "metadata": {},
   "outputs": [
    {
     "output_type": "execute_result",
     "data": {
      "text/plain": "Sentiment(polarity=0.0, subjectivity=0.6)"
     },
     "metadata": {},
     "execution_count": 40
    }
   ],
   "source": [
    "text = TextBlob(\"This a horrible day.\")\n",
    "text.sentiment#.polarity\n",
    "\n",
    "text = TextBlob(\"These reports are the best ever!\")\n",
    "text.sentiment#.polarity\n",
    "\n",
    "text = TextBlob(\"This is a wonderful day\")\n",
    "text.sentiment#.polarity\n",
    "\n",
    "text = TextBlob(\"The reports from this tool are very useful\")\n",
    "text.sentiment#.polarity\n",
    "\n",
    "text = TextBlob(\"This is neutral but my opinion is much different.\")\n",
    "text.sentiment#.polarity"
   ]
  },
  {
   "cell_type": "code",
   "execution_count": 16,
   "metadata": {},
   "outputs": [
    {
     "name": "stdout",
     "output_type": "stream",
     "text": [
      "Url is valid\n"
     ]
    }
   ],
   "source": [
    "#pip install validators\n",
    "import validators\n",
    "valid=validators.url('https://bbc.co.uk')\n",
    "if valid==True:\n",
    "    print(\"Url is valid\")\n",
    "else:\n",
    "    print(\"Invalid url\")"
   ]
  },
  {
   "cell_type": "code",
   "execution_count": 9,
   "metadata": {},
   "outputs": [],
   "source": [
    "def validateURL(url):\n",
    "    import validators\n",
    "    valid = validators.url(url)\n",
    "    if valid==True:\n",
    "        return(1)\n",
    "    else:\n",
    "        return(-1);\n",
    "        \n",
    "def getText(url):\n",
    "    from newspaper import Article\n",
    "    ### Getting the Text\n",
    "    article = Article(url)\n",
    "    article.download()\n",
    "    article.parse()\n",
    "    text = article.text\n",
    "    ### Removing unwanted formatting\n",
    "    text = text.replace(\"\\n\\n\", \"\")\n",
    "    text = text.replace(\"Image copyright Getty Images \", \"\")\n",
    "    text = text.replace(\"Image copyright Getty Images/Reuters\", \"\")\n",
    "    text = text.replace(\"Image caption \", \"\")\n",
    "    text = text.replace(\"Media playback is unsupported on your device \", \"\")\n",
    "    text = text.replace(\"Media caption \", \"\")\n",
    "    return(text);\n",
    "\n",
    "def sentimentAnalysis(url):\n",
    "    from textblob import TextBlob\n",
    "    text = getText(url)\n",
    "    ### analysing the text \n",
    "    testimonial = TextBlob(text)\n",
    "    ## use the output as \"analysed_txt.sentiment\" or \"analysed_txt.sentences\"\n",
    "    return(testimonial); \n",
    " \n",
    "def getArticle(url):   \n",
    "#news_article = getArticle(url)\n",
    "#IMAGE' = news_article.top_image\n",
    "#KEYWORDS'= news_article.keywords\n",
    "#SUMMARY' = news_article.summary\n",
    "\n",
    "    from newspaper import Article\n",
    "    ## use the output to get features such as \"article.top_image\", \"article.keywords\", \"article.summary\"    \n",
    "    article = Article(url)\n",
    "    article.download()\n",
    "    article.parse()\n",
    "    article.nlp()\n",
    "    return(article)"
   ]
  },
  {
   "cell_type": "code",
   "execution_count": 10,
   "metadata": {},
   "outputs": [
    {
     "output_type": "execute_result",
     "data": {
      "text/plain": "1"
     },
     "metadata": {},
     "execution_count": 10
    }
   ],
   "source": [
    "#url = \"https://metro.co.uk/2020/09/21/ftse-100-suffers-worst-day-since-mid-june-as-shares-tumble-over-lockdown-fears-13304315/\"\n",
    "#url = \"https://www.thesun.co.uk/news/12710493/jeremy-clarkson-task-force-fix-a-bridge/\"\n",
    "#url = \"https://www.bbc.co.uk/news/uk-54234084\"\n",
    "#url = \"https://www.techpackmobileandgadgetcover.co.uk/auth\"\n",
    "url = \"https://www.thesun.co.uk/news/12771727/battle-against-covid-lorraine-kelly/\"\n",
    "#url='xxx'\n",
    "\n",
    "#url = \"https://www.breitbart.com/2020-election/2020/10/03/as-trump-battles-covid-blm-antifa-disrupt-trump-rally-in-beverly-hills/\"\n",
    "\n",
    "validateURL(url) ## 1 = valid, -1 = invalid"
   ]
  },
  {
   "cell_type": "code",
   "execution_count": 14,
   "metadata": {},
   "outputs": [],
   "source": [
    "text = getText(url)"
   ]
  },
  {
   "cell_type": "code",
   "execution_count": 13,
   "metadata": {},
   "outputs": [
    {
     "output_type": "execute_result",
     "data": {
      "text/plain": "Sentiment(polarity=0.07519515887162947, subjectivity=0.5445272066350496)"
     },
     "metadata": {},
     "execution_count": 13
    }
   ],
   "source": [
    "analysed_text = sentimentAnalysis(url)\n",
    "analysed_text.sentiment"
   ]
  },
  {
   "cell_type": "code",
   "execution_count": 21,
   "metadata": {},
   "outputs": [
    {
     "name": "stdout",
     "output_type": "stream",
     "text": [
      "Sentiment(polarity=-0.07373737373737374, subjectivity=0.5611111111111112)\n",
      "WHEN I was training for the four marathons that I somehow managed to ­finish, I was given some terrific advice.I was told not to think about the 26.2 miles as one big scary lump, but to cut things up into manageable chunks, to take each mile as it comes and, when I was almost running on empty, to just think about getting to the next lamp-post.⚠️ Read our coronavirus live blog for the latest news & updates6 Our battle against Covid is long - but we will get there as a community Credit: AFP or licensorsIt sounds very simplistic but it worked, and I think it’s a message that could get us through life as we know it today.\n",
      "Sentiment(polarity=-0.0037581699346405225, subjectivity=0.64187675070028)\n",
      "We are all weary of this vile virus, and many of us are anxious, frightened and overwhelmed.I’ve had my share of waking up at 3am with my stomach churning and feeling as though a very large elephant is sitting on my chest.It’s to be expected with all the confusion, chaos and lack of clarity, but if we just take baby steps then it will be a whole lot easier.Listening to experts solemnly tell us that things won’t be back to normal in six months or even a year is tough to hear, extremely daunting and difficult to come to terms with right now.I don’t know about you, but I feel as though I’m at the bottom of a bloody big mountain without the right equipment to get to the top.Instead of panicking, though, I intend to concentrate on getting through all of this taking a week, or even a day, at a time.I think it’s really important to try to have something to look forward to, even if it’s just watching your favourite TV show, buying a newspaper or magazine or enjoying a video call with friends.\n",
      "Sentiment(polarity=-0.014583333333333344, subjectivity=0.3770833333333333)\n",
      "As you all know, I’ve found ­taking my dog Angus out for a walk makes me feel much less stressed.It’s sometimes hard to force myself out of the door, but once in the fresh air my spirits are always lifted.It’s also vital not to bottle everything up.\n",
      "Sentiment(polarity=-0.12, subjectivity=0.5085714285714286)\n",
      "If you are feeling desperate, please talk to your friends and family or someone else you trust.6 We all need to keep healthy, both mentally and physically, to get through this Credit: INSTAGRAM/LORRAINE KELLYYou aren’t alone in feeling tearful and confused.\n",
      "Sentiment(polarity=0.0, subjectivity=0.0)\n",
      "We have all been there.\n",
      "Sentiment(polarity=0.0, subjectivity=0.0)\n",
      "But trying to soldier on isn’t a sign of strength.\n",
      "Sentiment(polarity=0.26666666666666666, subjectivity=0.6833333333333332)\n",
      "It’s actually very brave to ask for help.This is a really crucial time and we all have to take responsibility for our own safety, protect ourselves and family and friends but also look out for everyone else.We will only get through this if we join forces and start acting like a proper community.\n",
      "Sentiment(polarity=0.08940836940836941, subjectivity=0.5045622895622895)\n",
      "We need to use our common sense and knuckle down to the new laws, no matter how tough they may be.Personally, I could weep for vulnerable elderly people in care homes who can’t see their families, for idealistic university students who are being told to stay in their tiny rooms when there’s a big wide world out there to explore and new friends to be made, and for anyone in danger of losing their job.And, of course, there are those still battling this illness, and families mourning the loss of those who have died.The only way we can ever hope to get our old way of life back is to make a massive effort right now, and try to stop this bastard of a virus from spreading until science can save us with a vaccine.We need to keep healthy, both mentally and physically, cut down on the booze and comfort-eating and concentrate on just getting through the next 24 hours.We will get there together.Gene and co still Rain supremeCAN I heartily recommend, to anyone in need of a pick-me-up, watching the classic 1952 musical Singin’ In The Rain.It’s utterly life-enhancing, with hilarious dialogue, incredible song-and-dance numbers and the glorious, rubber-faced Donald O’Connor doing a gravity-defying rendition of Make ’Em Laugh without the use of special effects.6 Singin’ In The Rain is the ultimate pick-me-up - I thoroughly recommend a watch Credit: MGMGene Kelly, pictured, and Cyd Charisse have never been more sexy and sultry together and Debbie Reynolds was the ultimate, fresh-faced all-American sweetheart.My favourite character of them all was the baddie Lina Lamont, who has the face of an angel and the voice of a screeching banshee.\n",
      "Sentiment(polarity=0.18000000000000002, subjectivity=0.5216666666666666)\n",
      "The movie just wouldn’t have been the same without Jean Hagen’s brilliant portrayal of this conniving but basically rather dim silent-screen actress.Even if you have seen this film before, I guarantee you will love it all over again and it’s as fresh and relevant today as it was 68 years ago.It’s make your mind up time for Harry and MeghanI SALUTE Harry and Meghan for urging people in the US to get out and vote, especially as they will be listened to by the younger electorate.They didn’t actually wear “Vote Biden” badges and urge citizens to put their cross in the box marked Democrat but they may as well have done.6 Harry and Meghan can't have one foot in and one foot out of the Royal FamilyBy sticking their necks out, however, it does leave the couple open to criticism.Inevitably, a huffy Donald Trump had a pop at Meghan but they will also have upset the Queen, who has tiptoed brilliantly through a field of political landmines during her 68 years on the throne and never put a foot wrong.\n",
      "Sentiment(polarity=0.2333333333333333, subjectivity=0.4666666666666666)\n",
      "I think Her Maj will take rather a dim view of her grandson’s grandstanding alongside her granddaughter-in-law.It’s time Harry and Meghan stopped playing the Hokey Cokey, with one foot out and one foot in the Royal Family, and severed official ties altogether.That means no longer having the titles of Duke and Duchess, being under any kind of obligation to the Crown or having to abide by the rules when it comes to talking about politics or accepting commercial deals.\n",
      "Sentiment(polarity=0.0813822939213564, subjectivity=0.5443390420343547)\n",
      "Of course, the Catch 22 here is that much of their cachet is built on those royal titles and any future lucrative deals could take a big hit.As plain old Harry and Meghan Windsor, they would be free to say what they want but would everyone still want to listen?They would also obviously still be very much part of the family, but just not members of the ROYAL family business.They can’t have it both ways.The Sun is top of the poppiesTHE Sun’s Poppy Appeal campaign, to encourage online donations while Covid-19 stops veterans and elderly volunteers having to go out to fundraise, is such a brilliant idea.And how wonderful to have the seal of approval of Captain Sir Tom Moore.6 Captain Tom launched The Sun's campaign to save the Poppy Appeal as vulnerable sellers can't take part this year Credit: News Group Newspapers LtdThis splendid man has become a symbol of hope in these tough times and, as an ex-serviceman, knows what a difference The Royal British Legion makes to the lives of our veterans.Covid restrictions mean many of the 40,000 indomitable volunteers – a lot of them veterans – cannot go out selling poppies because they are vulnerable to the virus.I know, from years of experience of working with them, that this has been a huge blow and could have a massive impact on fundraising.That’s why The Sun’s campaign is so very important.The men and women of our Armed Forces have made so many sacrifices over the years in conflicts including World War Two, Korea, the Falklands, Iraq and Afghanistan.Veterans and their families need our help more than ever and there are many ways you can make sure you wear your poppy with pride.You can simply go online and make a donation, visiting the online poppy shop for a range of themed products, and can also still buy a poppy from Sainsbury’s, Tesco, Asda, Aldi and Morrisons.I know times are tough, but whatever you can spare really will make all the difference.Sir Nick is man for jobDO you remember back in April when an Army general appeared at the now-scrapped daily 5pm coronavirus briefing?To be honest, when I saw the Chief of Defence Staff, General Sir Nick Carter, in uniform at the podium I heaved a sigh of relief.6 I'd rather have General Sir Nick Carter in charge of the Covid battle than Boris Johnson Credit: Getty - ContributorAt last the grown-ups were in charge and we might be getting somewhere.But we never saw Sir Nick there again.I reckon it was because he did far too good a job.The Government ministers were probably worried he would make them look even more incompetent if he were to appear on a regular basis.We know the Army worked hard behind the scenes to help build and equip the Nightingale hospitals across the country – which thankfully were not needed – and we are told they are on standby to help us get through the next few months.I, for one, whole-heartedly welcome the Army’s involvement and just wish at the start they had been given the job of distributing PPE, sorting out track-and-trace and making sure our testing centres were fit for purpose.I’d rather have Sir Nick in charge, exuding no-nonsense confidence, than quivering, out-of-his-depth Boris Johnson and his sorry gang of incompetents who couldn’t run a p***-up in the proverbial.Binge DeckBEST news of the week is that a new series of TV’s Below Deck has been given the green light.This reality show about life on the ocean continues to be my lockdown guilty pleasure.Most read in Opinion Comment TIM MARSHALL How US election could now go one of three ways — but Trump won't accept defeat Comment THE SUN ON SUNDAY SAYS Priti needs to battle dinghy-chasing lawyers to overhaul immigration Comment KARREN BRADY Let's focus on the glimmers of light in the darkness of our coronavirus tunnel Exclusive OLIVER DOWDEN How I'll save footie - and get fans back in stands as soon as possible Comment LORRAINE KELLY Poor Lynda Bellingham would be so sad over family rift after her son 'bans' her husband from his wedding Comment DAN WOOTTON I was mugged in Lawless London... it never occurred to me to dial 999The sheer escapism of observing spoilt rich people making clowns of themselves aboard breathtakingly expensive charter yachts, and the crew bickering, getting drunk and having sex with one another, is one of life’s joys.And don’t worry if you are late to the party.You can download Below Deck on Netflix then binge on the shows Below Deck Mediterranean and Below Deck Sailing Yacht on streaming service Hayu.Below Deck Med's Malia White appears to split from boyfriend Tom Checketts and accuse him of cheating in cryptic postGOT a story?\n",
      "Sentiment(polarity=0.0, subjectivity=0.0)\n",
      "RING The Sun on 0207 782 4104 or WHATSAPP on 07423720250 or EMAIL exclusive@the-sun.co.uk\n"
     ]
    }
   ],
   "source": [
    "for sentence in analysed_text.sentences:\n",
    "    print(sentence.sentiment)#.polarity)\n",
    "    print(sentence)"
   ]
  },
  {
   "cell_type": "code",
   "execution_count": 37,
   "metadata": {},
   "outputs": [
    {
     "output_type": "execute_result",
     "data": {
      "text/plain": "&#39;https://www.thetimes.co.uk/imageserver/image/%2Fmethode%2Ftimes%2Fprod%2Fweb%2Fbin%2F8775f498-02f4-11eb-bce8-b17824147865.jpg?crop=1600%2C900%2C0%2C0&amp;resize=685&#39;"
     },
     "metadata": {},
     "execution_count": 37
    }
   ],
   "source": [
    "url = 'https://www.thetimes.co.uk/edition/news/what-happens-if-the-us-election-polls-are-wrong-svwztjvvh'\n",
    "news_article = getArticle(url)\n",
    "\n",
    "news_article.top_image\n",
    "#print(news_article.keywords)\n",
    "#print(news_article.summary)"
   ]
  },
  {
   "cell_type": "code",
   "execution_count": 24,
   "metadata": {},
   "outputs": [
    {
     "name": "stdout",
     "output_type": "stream",
     "text": [
      "Sentiment of the SUMMARY\n",
      "Sentiment(polarity=0.1125, subjectivity=0.43333333333333335)\n",
      "Sentiment of the Whole Article\n",
      "Sentiment(polarity=0.1125, subjectivity=0.43333333333333335)\n"
     ]
    }
   ],
   "source": [
    "text = TextBlob(news_article.summary)\n",
    "print('Sentiment of the SUMMARY')\n",
    "print(text.sentiment)\n",
    "\n",
    "print('Sentiment of the Whole Article')\n",
    "print(sentimentAnalysis(url).sentiment)"
   ]
  },
  {
   "cell_type": "code",
   "execution_count": 25,
   "metadata": {},
   "outputs": [
    {
     "data": {
      "text/plain": [
       "TextBlob(\"Asombrados por la victoria de Donald Trump sobre Hillary Clinton en 2016, algunos votantes estadounidenses renunciaron a las urnas para siempre, creyendo que las encuestas al público durante la campaña no les habían alertado sobre la plausibilidad de una victoria republicana.\n",
       "Clinton disfrutó de lo que parecía ser una ventaja segura en las encuestas durante la campaña de 2016, y los datos de las encuestas de este año muestran que el candidato demócrata, esta vez Joe Biden, está cómodamente por delante.\n",
       "Pero si no puede confiar en las encuestas para pronosticar el resultado, ¿qué podría pasar el 3 de noviembre?\n",
       "El Times ha elaborado una herramienta para explorar ocho posibles resultados, desde un deslizamiento de tierra de Biden hasta una repetición de 2016.\n",
       "Seleccione un escenario de día de resultados para ver cómo el mapa político de los Estados Unidos\")"
      ]
     },
     "execution_count": 25,
     "metadata": {},
     "output_type": "execute_result"
    }
   ],
   "source": [
    "### OTHERS\n",
    "#translate\n",
    "b = TextBlob(news_article.summary)\n",
    "b.translate(to=\"es\")"
   ]
  },
  {
   "cell_type": "code",
   "execution_count": 26,
   "metadata": {},
   "outputs": [
    {
     "name": "stdout",
     "output_type": "stream",
     "text": [
      "https://www.bbc.co.uk/news/localnews\n",
      "https://www.bbc.co.uk/news/uk-politics-54407656\n",
      "https://www.bbc.co.uk/programmes/articles/1FrKZb474FwlYjq4TkgK1Xb/seven-things-we-learned-from-samantha-mortons-desert-island-discs\n",
      "https://www.bbc.co.uk/news/coronavirus\n",
      "https://www.bbc.co.uk/news/business-53731404\n",
      "https://www.bbc.co.uk/news/business-54407213\n",
      "https://www.bbc.co.uk/news/stories-54366336\n",
      "https://www.bbc.co.uk/news/live/world-54382914\n",
      "https://www.bbc.co.uk/news/election-us-2020-54405734\n",
      "https://www.bbc.co.uk/news/entertainment-arts-54408868\n",
      "https://www.bbc.co.uk/news/uk\n",
      "https://www.bbc.co.uk/news/uk-scotland-54409026\n",
      "https://www.bbc.co.uk/news/uk-wales-51888681\n",
      "https://www.bbc.co.uk/news/uk-northern-ireland-54403998\n",
      "https://www.bbc.co.uk/iplayer/episode/p08svvhc/later-live-tracks-london-grammar-baby-its-you-live-on-later\n",
      "https://www.bbc.co.uk/news/uk-54401690\n",
      "https://www.bbc.co.uk/news/uk-england-54297993\n",
      "https://www.bbc.co.uk/news/stories-54349897\n",
      "https://www.bbc.co.uk/news/uk-england-cumbria-54393345\n",
      "https://www.bbc.co.uk/news/england/cumbria\n",
      "https://www.bbc.co.uk/news/science-environment-54373183\n",
      "https://www.bbc.co.uk/news/science_and_environment\n",
      "https://www.bbc.co.uk/news/uk-politics-54390087\n",
      "https://www.bbc.co.uk/news/politics\n",
      "https://www.bbc.co.uk/bbcthree/article/9bcab621-dadb-4017-b89c-1e3e8f507ae2\n",
      "https://www.bbc.co.uk/news/uk-wales-54403479\n",
      "https://www.bbc.co.uk/food/collections/5_ways_to_add_veg_to_breakfast\n",
      "https://www.bbc.co.uk/programmes/articles/3ZwhSmmt2WnD16hycSzGGs2/how-to-avoid-laptop-syndrome-while-youre-working-from-home\n",
      "https://www.bbc.co.uk/news/world-europe-54370658\n",
      "https://www.bbc.co.uk/news/election-us-2020-54386681\n",
      "https://www.bbc.co.uk/news/uk-scotland-tayside-central-54250044\n",
      "https://www.bbc.co.uk/iplayer/episode/p08pkr8d/little-mix-the-search-series-1-1-boyband?xtor=CS8-1000-[Discovery_Cards]-[Multi_Site]-[SL01]-[PS_IPLAYER~C~~P_LittleMixTheSearchS1E1]\n",
      "https://www.bbc.co.uk/iplayer/episode/m000n1x3/the-hit-list-series-3-episode-1?xtor=CS8-1000-[Discovery_Cards]-[Multi_Site]-[SL01]-[PS_IPLAYER~C~~P_TheHitListS3E1]\n",
      "https://www.bbc.co.uk/iplayer/episode/m000n7zf/strictly-come-dancing-the-best-of-3-musicals?xtor=CS8-1000-[Discovery_Cards]-[Multi_Site]-[SL01]-[PS_IPLAYER~C~~P_StrictlyComeDancingTheBestOfMusicals]\n",
      "https://www.bbc.co.uk/iplayer/episode/p08qy6vm/just-one-night-series-1-6-phoebe-and-ruairi?xtor=CS8-1000-[Discovery_Cards]-[Multi_Site]-[SL01]-[PS_IPLAYER~C~~P_JustOneNightS1E1]\n",
      "https://www.bbc.co.uk/news/help-41670342\n"
     ]
    }
   ],
   "source": [
    "#####https://newspaper.readthedocs.io/en/latest/\n",
    "import newspaper\n",
    "\n",
    "cnn_paper = newspaper.build('https://www.bbc.co.uk/')\n",
    "\n",
    "for article in cnn_paper.articles:\n",
    "    print(article.url)"
   ]
  },
  {
   "cell_type": "code",
   "execution_count": 27,
   "metadata": {},
   "outputs": [
    {
     "name": "stdout",
     "output_type": "stream",
     "text": [
      "https://www.bbc.co.uk/\n",
      "https://downloads.bbc.co.uk\n",
      "https://www.bbc.co.uk\n"
     ]
    }
   ],
   "source": [
    "for category in cnn_paper.category_urls():\n",
    "    print(category)"
   ]
  },
  {
   "cell_type": "code",
   "execution_count": 28,
   "metadata": {},
   "outputs": [
    {
     "data": {
      "text/plain": [
       "'Get the news that’s local to you'"
      ]
     },
     "execution_count": 28,
     "metadata": {},
     "output_type": "execute_result"
    }
   ],
   "source": [
    "cnn_article = cnn_paper.articles[0]\n",
    "cnn_article.download()\n",
    "cnn_article.parse()\n",
    "cnn_article.nlp()\n",
    "cnn_article.text"
   ]
  },
  {
   "cell_type": "code",
   "execution_count": 29,
   "metadata": {},
   "outputs": [
    {
     "data": {
      "text/plain": [
       "'Media playback is unsupported on your device Media caption Boris Johnson: \"It\\'s going to continue to be bumpy through to Christmas\"\\n\\nBoris Johnson has warned it may be \"bumpy through to Christmas\" and beyond as the UK deals with coronavirus.\\n\\nSpeaking to the BBC\\'s Andrew Marr, the PM said there was \"hope\" in beating Covid, but called on the public to \"act fearlessly but with common sense\".\\n\\nHe said the government was taking a \"balanced\" approach between saving lives and protecting the economy.\\n\\nHis comments come as the UK announced more than 10,000 new cases for the first time since mass testing began.\\n\\nThere were 12,872 new cases announced on Saturday. However, the government said a technical issue meant some cases earlier in the week were not recorded at the time so had been included in Saturday\\'s data.\\n\\nThe prime minister said: \"The best thing we can do now for all those who have suffered in the course of this pandemic is bring it to an end in the speediest possible way.\"\\n\\nLabour\\'s shadow health minister, Alex Norris, criticised the interview as a \"wasted opportunity\" to set out a \"serious strategy to improve public confidence in the government\\'s handling of this crisis\".\\n\\nHe said: \"Instead [the PM] waffled and ducked every question. His serial incompetence is holding Britain back.\"\\n\\nMr Johnson said he believed over the \"next few weeks and months\" the \"scientific equation will change whether that is vaccines or testing\" and there will be \"progress\" in beating the virus.\\n\\nAs a result, he said there was \"hope\" and \"things can be significantly different by Christmas\", as well as being \"radically different\" by spring.\\n\\nBut, the prime minister warned there could be \"a very tough winter for all of us\", adding: \"I tell you in all candour, it will continue to be bumpy through to Christmas and may even be bumpy beyond.\"\\n\\nIs Boris Johnson optimistic or pessimistic about the fight against Covid? He seems to be a bit of both.\\n\\nThe prime minister\\'s prediction for the next few months is gloomy - winter will be \"bumpy\".\\n\\nRestrictions of varying degrees could be with us for months.\\n\\nBut at the same time, he is urging people to be fearless if they use common sense - and believes a \"radically different\" spring is around the corner.\\n\\nThe short-term forecast is downbeat. But the PM wants to retain hope that things could improve again in the not so distant future.\\n\\nLabour has been a long-standing critic of the performance of the Test and Trace system, with its leader, Sir Keir Starmer, accusing the government of having \"lost control\" of the virus.\\n\\nMr Johnson said the system was \"not perfect\" and that he was \"frustrated with it\".\\n\\nBut he defended its \"massive increase in capacity\", saying it had \"made a huge difference\" in tackling Covid-19.\\n\\nMr Johnson also stood by the Eat Out to Help Out restaurant discount introduced in August, which some critics have said added to the rise in coronavirus cases in September.\\n\\n\"In so far as that scheme may have helped to spread the virus then obviously we need to counteract that and we need to counteract that with the discipline and the measures that we\\'re proposing,\" he said.\\n\\nBut he insisted it was \"right to reopen the economy\" as the government tries to \"strike the right balance\".\\n\\nMr Johnson said he took \"full responsibility for everything that has happened since the pandemic began\".\\n\\n\\'Suspicion\\'\\n\\nAsked about how effective the latest local lockdowns were in tackling the growing number of cases, the prime minister said it was \"too early to say\".\\n\\nMr Johnson said he understood the \"frustrations\" of people living in the affected areas - as well as a number of his own backbench MPs - but defended the action, saying: \"I\\'m a freedom-loving Tory. I don\\'t want to have to impose measures like this, are you crazy?\\n\\n\"This is the last thing we want to do. But I also have to save life. And that\\'s our priority.\"\\n\\n\"And I also think, by the way, that\\'s the priority of the British people and I think they will want to see their government continue to work, continuing to fight the virus and that\\'s what we\\'re doing.\"\\n\\nLabour\\'s shadow health secretary Jon Ashworth earlier called for the government to publish guidelines on what criteria they used to impose local lockdowns, and to involve local council leaders and health officials.\\n\\nHe said there were questions as to why current areas have extra restrictions, while the constituencies of cabinet ministers with higher case numbers remained unchanged.\\n\\n\"Because there are no clear guidelines as to why an area goes into restrictions, and how an area comes out of restrictions, then there is a suspicion that there is political interference,\" he told Andrew Marr.\\n\\n\"I hope there isn\\'t. But until the government publish clear guidelines, that suspicion will always linger.\"\\n\\nMedia playback is unsupported on your device Media caption Andrew Marr challenged the PM over his comments about people becoming \"complacent\" over Covid-19\\n\\nMr Johnson was also asked about his health following his own experience of fighting coronavirus in March and April - and in light of US President Donald Trump testing positive.\\n\\nThe prime minister said when he had the virus he was \"too fat\" and it was a \"teachable moment for our great country\" to get on top of the issue of obesity.\\n\\nBut he claimed it was \"balderdash\" that he was still suffering from the effects of coronavirus, known as \"long Covid\".\\n\\nHe said the claim was \"drivel\", adding: \"It is balderdash and nonsense. I can tell you I\\'m fitter than several butchers\\' dogs.\"\\n\\nThe Conservatives are currently holding their first virtual party conference due to coronavirus restrictions on mass gatherings.'"
      ]
     },
     "execution_count": 29,
     "metadata": {},
     "output_type": "execute_result"
    }
   ],
   "source": [
    "cnn_article = cnn_paper.articles[1]\n",
    "cnn_article.download()\n",
    "cnn_article.parse()\n",
    "cnn_article.nlp()\n",
    "cnn_article.text"
   ]
  },
  {
   "cell_type": "code",
   "execution_count": 15,
   "metadata": {},
   "outputs": [
    {
     "output_type": "execute_result",
     "data": {
      "text/plain": "&quot;WHEN I was training for the four marathons that I somehow managed to \\xadfinish, I was given some terrific advice.I was told not to think about the 26.2 miles as one big scary lump, but to cut things up into manageable chunks, to take each mile as it comes and, when I was almost running on empty, to just think about getting to the next lamp-post.⚠️ Read our coronavirus live blog for the latest news &amp; updates6 Our battle against Covid is long - but we will get there as a community Credit: AFP or licensorsIt sounds very simplistic but it worked, and I think it’s a message that could get us through life as we know it today. We are all weary of this vile virus, and many of us are anxious, frightened and overwhelmed.I’ve had my share of waking up at 3am with my stomach churning and feeling as though a very large elephant is sitting on my chest.It’s to be expected with all the confusion, chaos and lack of clarity, but if we just take baby steps then it will be a whole lot easier.Listening to experts solemnly tell us that things won’t be back to normal in six months or even a year is tough to hear, extremely daunting and difficult to come to terms with right now.I don’t know about you, but I feel as though I’m at the bottom of a bloody big mountain without the right equipment to get to the top.Instead of panicking, though, I intend to concentrate on getting through all of this taking a week, or even a day, at a time.I think it’s really important to try to have something to look forward to, even if it’s just watching your favourite TV show, buying a newspaper or magazine or enjoying a video call with friends. As you all know, I’ve found \\xadtaking my dog Angus out for a walk makes me feel much less stressed.It’s sometimes hard to force myself out of the door, but once in the fresh air my spirits are always lifted.It’s also vital not to bottle everything up. If you are feeling desperate, please talk to your friends and family or someone else you trust.6 We all need to keep healthy, both mentally and physically, to get through this Credit: INSTAGRAM/LORRAINE KELLYYou aren’t alone in feeling tearful and confused. We have all been there. But trying to soldier on isn’t a sign of strength. It’s actually very brave to ask for help.This is a really crucial time and we all have to take responsibility for our own safety, protect ourselves and family and friends but also look out for everyone else.We will only get through this if we join forces and start acting like a proper community. We need to use our common sense and knuckle down to the new laws, no matter how tough they may be.Personally, I could weep for vulnerable elderly people in care homes who can’t see their families, for idealistic university students who are being told to stay in their tiny rooms when there’s a big wide world out there to explore and new friends to be made, and for anyone in danger of losing their job.And, of course, there are those still battling this illness, and families mourning the loss of those who have died.The only way we can ever hope to get our old way of life back is to make a massive effort right now, and try to stop this bastard of a virus from spreading until science can save us with a vaccine.We need to keep healthy, both mentally and physically, cut down on the booze and comfort-eating and concentrate on just getting through the next 24 hours.We will get there together.Gene and co still Rain supremeCAN I heartily recommend, to anyone in need of a pick-me-up, watching the classic 1952 musical Singin’ In The Rain.It’s utterly life-enhancing, with hilarious dialogue, incredible song-and-dance numbers and the glorious, rubber-faced Donald O’Connor doing a gravity-defying rendition of Make ’Em Laugh without the use of special effects.6 Singin’ In The Rain is the ultimate pick-me-up - I thoroughly recommend a watch Credit: MGMGene Kelly, pictured, and Cyd Charisse have never been more sexy and sultry together and Debbie Reynolds was the ultimate, fresh-faced all-American sweetheart.My favourite character of them all was the baddie Lina Lamont, who has the face of an angel and the voice of a screeching banshee. The movie just wouldn’t have been the same without Jean Hagen’s brilliant portrayal of this conniving but basically rather dim silent-screen actress.Even if you have seen this film before, I guarantee you will love it all over again and it’s as fresh and relevant today as it was 68 years ago.It’s make your mind up time for Harry and MeghanI SALUTE Harry and Meghan for urging people in the US to get out and vote, especially as they will be listened to by the younger electorate.They didn’t actually wear “Vote Biden” badges and urge citizens to put their cross in the box marked Democrat but they may as well have done.6 Harry and Meghan can&#39;t have one foot in and one foot out of the Royal FamilyBy sticking their necks out, however, it does leave the couple open to criticism.Inevitably, a huffy Donald Trump had a pop at Meghan but they will also have upset the Queen, who has tiptoed brilliantly through a field of political landmines during her 68 years on the throne and never put a foot wrong. I think Her Maj will take rather a dim view of her grandson’s grandstanding alongside her granddaughter-in-law.It’s time Harry and Meghan stopped playing the Hokey Cokey, with one foot out and one foot in the Royal Family, and severed official ties altogether.That means no longer having the titles of Duke and Duchess, being under any kind of obligation to the Crown or having to abide by the rules when it comes to talking about politics or accepting commercial deals. Of course, the Catch 22 here is that much of their cachet is built on those royal titles and any future lucrative deals could take a big hit.As plain old Harry and Meghan Windsor, they would be free to say what they want but would everyone still want to listen?They would also obviously still be very much part of the family, but just not members of the ROYAL family business.They can’t have it both ways.The Sun is top of the poppiesTHE Sun’s Poppy Appeal campaign, to encourage online donations while Covid-19 stops veterans and elderly volunteers having to go out to fundraise, is such a brilliant idea.And how wonderful to have the seal of approval of Captain Sir Tom Moore.6 Captain Tom launched The Sun&#39;s campaign to save the Poppy Appeal as vulnerable sellers can&#39;t take part this year Credit: News Group Newspapers LtdThis splendid man has become a symbol of hope in these tough times and, as an ex-serviceman, knows what a difference The Royal British Legion makes to the lives of our veterans.Covid restrictions mean many of the 40,000 indomitable volunteers – a lot of them veterans – cannot go out selling poppies because they are vulnerable to the virus.I know, from years of experience of working with them, that this has been a huge blow and could have a massive impact on fundraising.That’s why The Sun’s campaign is so very important.The men and women of our Armed Forces have made so many sacrifices over the years in conflicts including World War Two, Korea, the Falklands, Iraq and Afghanistan.Veterans and their families need our help more than ever and there are many ways you can make sure you wear your poppy with pride.You can simply go online and make a donation, visiting the online poppy shop for a range of themed products, and can also still buy a poppy from Sainsbury’s, Tesco, Asda, Aldi and Morrisons.I know times are tough, but whatever you can spare really will make all the difference.Sir Nick is man for jobDO you remember back in April when an Army general appeared at the now-scrapped daily 5pm coronavirus briefing?To be honest, when I saw the Chief of Defence Staff, General Sir Nick Carter, in uniform at the podium I heaved a sigh of relief.6 I&#39;d rather have General Sir Nick Carter in charge of the Covid battle than Boris Johnson Credit: Getty - ContributorAt last the grown-ups were in charge and we might be getting somewhere.But we never saw Sir Nick there again.I reckon it was because he did far too good a job.The Government ministers were probably worried he would make them look even more incompetent if he were to appear on a regular basis.We know the Army worked hard behind the scenes to help build and equip the Nightingale hospitals across the country – which thankfully were not needed – and we are told they are on standby to help us get through the next few months.I, for one, whole-heartedly welcome the Army’s involvement and just wish at the start they had been given the job of distributing PPE, sorting out track-and-trace and making sure our testing centres were fit for purpose.I’d rather have Sir Nick in charge, exuding no-nonsense confidence, than quivering, out-of-his-depth Boris Johnson and his sorry gang of incompetents who couldn’t run a p***-up in the proverbial.Binge DeckBEST news of the week is that a new series of TV’s Below Deck has been given the green light.This reality show about life on the ocean continues to be my lockdown guilty pleasure.Most read in Opinion Comment TIM MARSHALL How US election could now go one of three ways — but Trump won&#39;t accept defeat Comment THE SUN ON SUNDAY SAYS Priti needs to battle dinghy-chasing lawyers to overhaul immigration Comment KARREN BRADY Let&#39;s focus on the glimmers of light in the darkness of our coronavirus tunnel Exclusive OLIVER DOWDEN How I&#39;ll save footie - and get fans back in stands as soon as possible Comment LORRAINE KELLY Poor Lynda Bellingham would be so sad over family rift after her son &#39;bans&#39; her husband from his wedding Comment THE SUN SAYS William grew into a leader helping Britain face one of its darkest timesThe sheer escapism of observing spoilt rich people making clowns of themselves aboard breathtakingly expensive charter yachts, and the crew bickering, getting drunk and having sex with one another, is one of life’s joys.And don’t worry if you are late to the party.You can download Below Deck on Netflix then binge on the shows Below Deck Mediterranean and Below Deck Sailing Yacht on streaming service Hayu.Below Deck Med&#39;s Malia White appears to split from boyfriend Tom Checketts and accuse him of cheating in cryptic postGOT a story? RING The Sun on 0207 782 4104 or WHATSAPP on 07423720250 or EMAIL exclusive@the-sun.co.uk&quot;"
     },
     "metadata": {},
     "execution_count": 15
    }
   ],
   "source": [
    "text"
   ]
  },
  {
   "cell_type": "code",
   "execution_count": 5,
   "metadata": {
    "tags": []
   },
   "outputs": [
    {
     "output_type": "stream",
     "name": "stderr",
     "text": "[nltk_data] Downloading package vader_lexicon to\n[nltk_data]     C:\\Users\\ana\\AppData\\Roaming\\nltk_data...\n[nltk_data]   Package vader_lexicon is already up-to-date!\n"
    }
   ],
   "source": [
    "## VADER\n",
    "## https://www.geeksforgeeks.org/python-sentiment-analysis-using-vader/\n",
    "\n",
    "import nltk \n",
    "import nltk.data\n",
    "nltk.download('vader_lexicon')\n",
    "from vaderSentiment.vaderSentiment import SentimentIntensityAnalyzer\n",
    "\n",
    "# function to print sentiments \n",
    "# of the sentence. \n",
    "def sentiment_scores(sentence): \n",
    "  \n",
    "    # Create a SentimentIntensityAnalyzer object. \n",
    "    sid_obj = SentimentIntensityAnalyzer() \n",
    "  \n",
    "    # polarity_scores method of SentimentIntensityAnalyzer \n",
    "    # oject gives a sentiment dictionary. \n",
    "    # which contains pos, neg, neu, and compound scores. \n",
    "    sentiment_dict = sid_obj.polarity_scores(sentence) \n",
    "      \n",
    "    print(\"Overall sentiment dictionary is : \", sentiment_dict) \n",
    "    print(\"sentence was rated as \", sentiment_dict['neg']*100, \"% Negative\") \n",
    "    print(\"sentence was rated as \", sentiment_dict['neu']*100, \"% Neutral\") \n",
    "    print(\"sentence was rated as \", sentiment_dict['pos']*100, \"% Positive\") \n",
    "  \n",
    "    print(\"Sentence Overall Rated As\", end = \" \") \n",
    "  \n",
    "    # decide sentiment as positive, negative and neutral \n",
    "    if sentiment_dict['compound'] >= 0.05 : \n",
    "        print(\"Positive\") \n",
    "  \n",
    "    elif sentiment_dict['compound'] <= - 0.05 : \n",
    "        print(\"Negative\") \n",
    "  \n",
    "    else : \n",
    "        print(\"Neutral\") \n",
    "  \n",
    "  "
   ]
  },
  {
   "source": [],
   "cell_type": "markdown",
   "metadata": {}
  },
  {
   "cell_type": "code",
   "execution_count": 19,
   "metadata": {
    "tags": []
   },
   "outputs": [
    {
     "output_type": "stream",
     "name": "stdout",
     "text": "\n1st statement :\nOverall sentiment dictionary is :  {&#39;neg&#39;: 0.165, &#39;neu&#39;: 0.588, &#39;pos&#39;: 0.247, &#39;compound&#39;: 0.5267}\nsentence was rated as  16.5 % Negative\nsentence was rated as  58.8 % Neutral\nsentence was rated as  24.7 % Positive\nSentence Overall Rated As Positive\n\n2nd Statement :\nOverall sentiment dictionary is :  {&#39;neg&#39;: 0.0, &#39;neu&#39;: 0.84, &#39;pos&#39;: 0.16, &#39;compound&#39;: 0.2263}\nsentence was rated as  0.0 % Negative\nsentence was rated as  84.0 % Neutral\nsentence was rated as  16.0 % Positive\nSentence Overall Rated As Positive\n\n3rd Statement :\nOverall sentiment dictionary is :  {&#39;neg&#39;: 0.437, &#39;neu&#39;: 0.563, &#39;pos&#39;: 0.0, &#39;compound&#39;: -0.4767}\nsentence was rated as  43.7 % Negative\nsentence was rated as  56.3 % Neutral\nsentence was rated as  0.0 % Positive\nSentence Overall Rated As Negative\n\nURL Text\nOverall sentiment dictionary is :  {&#39;neg&#39;: 0.093, &#39;neu&#39;: 0.779, &#39;pos&#39;: 0.128, &#39;compound&#39;: 0.9979}\nsentence was rated as  9.3 % Negative\nsentence was rated as  77.9 % Neutral\nsentence was rated as  12.8 % Positive\nSentence Overall Rated As Positive\n"
    }
   ],
   "source": [
    "# Driver code \n",
    "if __name__ == \"__main__\" : \n",
    "  \n",
    "    print(\"\\n1st statement :\") \n",
    "    sentence = \"Geeks For Geeks is the best portal for the computer science engineering students.\" \n",
    "  \n",
    "    # function calling \n",
    "    sentiment_scores(sentence) \n",
    "  \n",
    "    print(\"\\n2nd Statement :\") \n",
    "    sentence = \"This was a helpful example but I would prefer another one.\" ###\"study is going on as usual\"\n",
    "    sentiment_scores(sentence) \n",
    "  \n",
    "    print(\"\\n3rd Statement :\") \n",
    "    sentence = \"I am vey sad today.\"\n",
    "    sentiment_scores(sentence) \n",
    "\n",
    "    print(\"\\nURL Text\") \n",
    "    sentence = text \n",
    "    sentiment_scores(sentence) "
   ]
  },
  {
   "cell_type": "code",
   "execution_count": null,
   "metadata": {},
   "outputs": [],
   "source": []
  },
  {
   "cell_type": "code",
   "execution_count": null,
   "metadata": {},
   "outputs": [],
   "source": []
  },
  {
   "cell_type": "code",
   "execution_count": null,
   "metadata": {},
   "outputs": [],
   "source": []
  }
 ],
 "metadata": {
  "kernelspec": {
   "display_name": "Python 3",
   "language": "python",
   "name": "python3"
  },
  "language_info": {
   "codemirror_mode": {
    "name": "ipython",
    "version": 3
   },
   "file_extension": ".py",
   "mimetype": "text/x-python",
   "name": "python",
   "nbconvert_exporter": "python",
   "pygments_lexer": "ipython3",
   "version": "3.8.5-final"
  }
 },
 "nbformat": 4,
 "nbformat_minor": 4
}